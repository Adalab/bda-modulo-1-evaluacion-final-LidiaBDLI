{
 "cells": [
  {
   "cell_type": "code",
   "execution_count": 1,
   "metadata": {},
   "outputs": [],
   "source": [
    "inventario = [] # Una lista de diccionarios para almacenar los productos [{\"nombre\":\"camisa\", \"precio\":20, \"cantidad\":40}]\n",
    "clientes = {} # Un diccionario para registrar los clientes {\"cliente1\":{\"email\":\"cliente1@gmail.com\", \"compras\":[]}, \"cliente2\":{\"email\":\"cliente2@gmail.com\", \"compras\":[]}}\n",
    "ventas_totales = 0.0"
   ]
  },
  {
   "cell_type": "code",
   "execution_count": 2,
   "metadata": {},
   "outputs": [],
   "source": [
    "def agregar_producto (nombre, precio, cantidad):\n",
    "    for producto in inventario: # Busca en el inventario si ya existe el producto a través del nombre. \n",
    "        if producto [\"nombre\"]== nombre:\n",
    "            producto[\"cantidad\"]+=cantidad # Si existe, a la cantidad del inventario le suma la cantidad que se le proporcione cuando llamemos a la función.  \n",
    "            return inventario # Devuelve el inventario actualizado\n",
    "    nuevo_producto = {\"nombre\":nombre, \"precio\":precio, \"cantidad\":cantidad} # Si no encuentra el producto en el inventario, crea un diccionario.\n",
    "    inventario.append(nuevo_producto) #Añade el diccionario creado en la línea anterior al inventario.\n",
    "    print(f\"El producto {nombre} se ha agregado\")\n",
    "    return inventario"
   ]
  },
  {
   "cell_type": "code",
   "execution_count": 3,
   "metadata": {},
   "outputs": [],
   "source": [
    "def ver_inventario ():\n",
    "    for producto in inventario: # Va recorriendo el inventario.\n",
    "        nombre = producto[\"nombre\"]\n",
    "        precio = producto[\"precio\"]\n",
    "        cantidad = producto[\"cantidad\"]\n",
    "        print(f\"Nombre:{nombre}, Precio:{precio}, Cantidad:{cantidad}\") # Imprime nombre, precio y cantidad de cada producto. "
   ]
  },
  {
   "cell_type": "code",
   "execution_count": 4,
   "metadata": {},
   "outputs": [],
   "source": [
    "def buscar_producto (nombre):\n",
    "    for producto in inventario:\n",
    "        if producto [\"nombre\"] == nombre:\n",
    "            print(f\"Nombre:{producto[\"nombre\"]}, Precio:{producto[\"precio\"]}, Cantidad:{producto[\"cantidad\"]}\")\n",
    "            return\n",
    "    print (\"No se ha encontrado el producto\")"
   ]
  },
  {
   "cell_type": "code",
   "execution_count": 5,
   "metadata": {},
   "outputs": [],
   "source": [
    "def actualizar_stock(nombre, cantidad):\n",
    "    cantidad_acción = input(\"Indica si deseas agregar o quitar productos del inventario\") # Pregunta al usuario/a si quiere agregar o quitar la cantidad indicada. \n",
    "    for producto in inventario: # Busca en el inventario si ya exite el producto a través del nombre. \n",
    "        if producto[\"nombre\"]==nombre:\n",
    "            if cantidad_acción == \"agregar\": # Si se ha indicado agregar, suma la cantidad indicada a la cantidad del inventario. \n",
    "                producto[\"cantidad\"]+=cantidad\n",
    "            else: # Si se ha indicado quitar, resta la cantidad indicada a la cantidad del inventario. \n",
    "                producto[\"cantidad\"]-=cantidad\n",
    "            return inventario\n",
    "        else: # Si no encuentra el producto, muestra un mensaje indicándolo. \n",
    "            print(\"El producto no está en el inventario\")"
   ]
  },
  {
   "cell_type": "code",
   "execution_count": null,
   "metadata": {},
   "outputs": [],
   "source": [
    "# Para el ejercicio de def actualizar_stock también pensé en hacerlo sin input, indicando la cantidad en negativo en caso de querer restar la cantidad y en positivo si la queremos agregar. "
   ]
  },
  {
   "cell_type": "code",
   "execution_count": null,
   "metadata": {},
   "outputs": [],
   "source": [
    "def eliminar_producto(nombre):\n",
    "    for producto in inventario: # Busca en el inventario el producto por el nombre.\n",
    "        if producto[\"nombre\"]==nombre:\n",
    "            inventario.remove(producto) # Si existe, lo elimina.\n",
    "            return inventario\n",
    "        else:\n",
    "            print(f\"El producto {nombre} no está en el inventario\") # Si no lo encuentra, muestra un mensaje donde lo indica."
   ]
  },
  {
   "cell_type": "code",
   "execution_count": null,
   "metadata": {},
   "outputs": [],
   "source": [
    "def calcular_valor_inventario():\n",
    "    valor_inventario = 0\n",
    "    for producto in inventario: # Busca en el inventario el precio y la cantidad de cada producto y los multiplica.\n",
    "        valor_producto = producto[\"precio\"]*producto[\"cantidad\"] \n",
    "        valor_inventario +=valor_producto # Suma los valores de todos los productos.\n",
    "    print(f\"El valor del inventario es {valor_inventario}\")"
   ]
  },
  {
   "cell_type": "code",
   "execution_count": null,
   "metadata": {},
   "outputs": [],
   "source": [
    "def realizar_compra():\n",
    "    coste_total_compra = 0\n",
    "    carrito = []\n",
    "    while True:\n",
    "        print(f\"Los productos disponibles son los siguientes {inventario}\") # Imprime el inventario.\n",
    "        decisión = input(\"Indica si deseas comprar o salir\") # Pregunta si queremos comprar o salir. \n",
    "        if decisión == \"salir\":\n",
    "            print(\"Gracias por su visita\")\n",
    "            break # Si marcamos salir, sale del bucle. \n",
    "        if decisión == \"comprar\": # Si marcamos comprar, nos pregunta el producto que queremos comprar y la cantidad. \n",
    "            selección_producto = input(\"Indica el producto que deseas comprar\")\n",
    "            cantidad_comprada = int(input(\"Indica la cantidad que deseas comprar\"))\n",
    "            producto_comprado = None\n",
    "            for producto in inventario: # Revisa si el producto indicado se encuentra en el inventario y si la cantidad es suficiente. \n",
    "                if producto[\"nombre\"] == selección_producto and producto[\"cantidad\"]>=cantidad_comprada:\n",
    "                    producto_comprado = producto\n",
    "                    producto_comprado[\"cantidad\"]-=cantidad_comprada\n",
    "                    carrito = producto_comprado[\"nombre\"], producto_comprado[\"precio\"], cantidad_comprada # Prepara el carrito.\n",
    "                    coste_total_compra += cantidad_comprada * producto_comprado[\"precio\"] # Calcula el coste de nuestra compra. \n",
    "                    print(f\"Tu carrito de la compra contiene los siguientes productos {carrito}\")\n",
    "                    print(f\"El coste total de la compra es de {coste_total_compra} €\")\n",
    "                    break\n",
    "                if producto[\"nombre\"] != selección_producto or producto[\"cantidad\"]<cantidad_comprada: # Si el producto no está en el inventario o no hay sufiente cantidad, nos manda un mensaje.\n",
    "                    print(f\"El producto {selección_producto} no se encuentra en el inventario o no hay suficiente producto en el inventario\")"
   ]
  },
  {
   "cell_type": "code",
   "execution_count": 9,
   "metadata": {},
   "outputs": [
    {
     "name": "stdout",
     "output_type": "stream",
     "text": [
      "El producto camiseta se ha agregado\n"
     ]
    },
    {
     "data": {
      "text/plain": [
       "[{'nombre': 'camiseta', 'precio': 20, 'cantidad': 200}]"
      ]
     },
     "execution_count": 9,
     "metadata": {},
     "output_type": "execute_result"
    }
   ],
   "source": [
    "agregar_producto(\"camiseta\", 20, 200)"
   ]
  },
  {
   "cell_type": "code",
   "execution_count": 13,
   "metadata": {},
   "outputs": [
    {
     "name": "stdout",
     "output_type": "stream",
     "text": [
      "El producto bufandas se ha agregado\n"
     ]
    },
    {
     "data": {
      "text/plain": [
       "[{'nombre': 'camiseta', 'precio': 20, 'cantidad': 800},\n",
       " {'nombre': 'bufandas', 'precio': 15, 'cantidad': 300}]"
      ]
     },
     "execution_count": 13,
     "metadata": {},
     "output_type": "execute_result"
    }
   ],
   "source": [
    "agregar_producto(\"bufandas\", 15, 300)"
   ]
  },
  {
   "cell_type": "code",
   "execution_count": 14,
   "metadata": {},
   "outputs": [
    {
     "name": "stdout",
     "output_type": "stream",
     "text": [
      "Nombre:camiseta, Precio:20, Cantidad:800\n",
      "Nombre:bufandas, Precio:15, Cantidad:300\n"
     ]
    }
   ],
   "source": [
    "ver_inventario()"
   ]
  },
  {
   "cell_type": "code",
   "execution_count": 11,
   "metadata": {},
   "outputs": [
    {
     "name": "stdout",
     "output_type": "stream",
     "text": [
      "Nombre:camiseta, Precio:20, Cantidad:200\n"
     ]
    }
   ],
   "source": [
    "buscar_producto(\"camiseta\")"
   ]
  },
  {
   "cell_type": "code",
   "execution_count": 16,
   "metadata": {},
   "outputs": [
    {
     "data": {
      "text/plain": [
       "[{'nombre': 'camiseta', 'precio': 20, 'cantidad': 800},\n",
       " {'nombre': 'bufandas', 'precio': 15, 'cantidad': 300}]"
      ]
     },
     "execution_count": 16,
     "metadata": {},
     "output_type": "execute_result"
    }
   ],
   "source": [
    "actualizar_stock(\"camiseta\", 600)"
   ]
  },
  {
   "cell_type": "code",
   "execution_count": 17,
   "metadata": {},
   "outputs": [
    {
     "name": "stdout",
     "output_type": "stream",
     "text": [
      "El producto bufandas no está en el inventario\n"
     ]
    },
    {
     "data": {
      "text/plain": [
       "[{'nombre': 'camiseta', 'precio': 20, 'cantidad': 800}]"
      ]
     },
     "execution_count": 17,
     "metadata": {},
     "output_type": "execute_result"
    }
   ],
   "source": [
    "eliminar_producto(\"bufandas\")"
   ]
  },
  {
   "cell_type": "code",
   "execution_count": 20,
   "metadata": {},
   "outputs": [
    {
     "name": "stdout",
     "output_type": "stream",
     "text": [
      "El valor del inventario es 16000\n"
     ]
    }
   ],
   "source": [
    "calcular_valor_inventario()"
   ]
  },
  {
   "cell_type": "code",
   "execution_count": 21,
   "metadata": {},
   "outputs": [
    {
     "name": "stdout",
     "output_type": "stream",
     "text": [
      "Los productos disponibles son los siguientes [{'nombre': 'camiseta', 'precio': 20, 'cantidad': 800}]\n",
      "Tu carrito de la compra contiene los siguientes productos ('camiseta', 20, 2)\n",
      "El coste total de la compra es de 40 €\n",
      "Los productos disponibles son los siguientes [{'nombre': 'camiseta', 'precio': 20, 'cantidad': 798}]\n",
      "Gracias por su visita\n"
     ]
    }
   ],
   "source": [
    "realizar_compra()"
   ]
  },
  {
   "cell_type": "code",
   "execution_count": 22,
   "metadata": {},
   "outputs": [
    {
     "name": "stdout",
     "output_type": "stream",
     "text": [
      "Los productos disponibles son los siguientes [{'nombre': 'camiseta', 'precio': 20, 'cantidad': 798}]\n",
      "El producto bolígrafo no se encuentra en el inventario o no hay suficiente producto en el inventario\n",
      "Los productos disponibles son los siguientes [{'nombre': 'camiseta', 'precio': 20, 'cantidad': 798}]\n",
      "Gracias por su visita\n"
     ]
    }
   ],
   "source": [
    "realizar_compra()"
   ]
  }
 ],
 "metadata": {
  "kernelspec": {
   "display_name": "Python 3",
   "language": "python",
   "name": "python3"
  },
  "language_info": {
   "codemirror_mode": {
    "name": "ipython",
    "version": 3
   },
   "file_extension": ".py",
   "mimetype": "text/x-python",
   "name": "python",
   "nbconvert_exporter": "python",
   "pygments_lexer": "ipython3",
   "version": "3.13.2"
  }
 },
 "nbformat": 4,
 "nbformat_minor": 2
}
